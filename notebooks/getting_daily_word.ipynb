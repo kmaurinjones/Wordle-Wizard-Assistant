{
 "cells": [
  {
   "cell_type": "markdown",
   "metadata": {},
   "source": [
    "# Next Steps\n",
    "\n",
    "- Use Selenium instead (use Allard scraping code)"
   ]
  },
  {
   "cell_type": "markdown",
   "metadata": {},
   "source": [
    "# Selenium\n",
    "\n",
    "- Use Selenium to fill out game with current provided guesses and give user feedback on best guess at the moment"
   ]
  },
  {
   "cell_type": "code",
   "execution_count": 1,
   "metadata": {},
   "outputs": [],
   "source": [
    "# import requests\n",
    "from bs4 import BeautifulSoup\n",
    "\n",
    "# !pip install selenium\n",
    "from selenium import webdriver\n",
    "from selenium.webdriver.common.keys import Keys\n",
    "from selenium.webdriver.chrome.options import Options\n",
    "\n",
    "# Configure ChromeOptions\n",
    "chrome_options = Options()\n",
    "chrome_options.add_argument(\"--headless\")  # Run Chrome in headless mode"
   ]
  },
  {
   "cell_type": "code",
   "execution_count": 2,
   "metadata": {},
   "outputs": [
    {
     "data": {
      "text/plain": [
       "'topaz'"
      ]
     },
     "execution_count": 2,
     "metadata": {},
     "output_type": "execute_result"
    }
   ],
   "source": [
    "# driver = webdriver.Chrome()\n",
    "driver = webdriver.Chrome(options = chrome_options)\n",
    "\n",
    "url = \"https://screenrant.com/wordle-answers-updated-word-puzzle-guide/\"\n",
    "\n",
    "# Navigate to the URL\n",
    "driver.get(url)\n",
    "\n",
    "# Get the page source\n",
    "html_content = driver.page_source\n",
    "  \n",
    "soup = BeautifulSoup(html_content, \"html.parser\")\n",
    "for item in soup.find_all('a'):\n",
    "    \n",
    "    item_link = item['href']\n",
    "\n",
    "    link_prefix = \"https://screenrant.com/todays-wordle-answer-hints\"\n",
    "\n",
    "    if item_link:\n",
    "        \n",
    "        if link_prefix in item_link:\n",
    "            good_item = item\n",
    "            break\n",
    "\n",
    "# print(good_item)\n",
    "\n",
    "good_text = good_item.text\n",
    "\n",
    "target_word = good_text.split(\" - \")[-1].lower()\n",
    "target_word"
   ]
  }
 ],
 "metadata": {
  "kernelspec": {
   "display_name": "base",
   "language": "python",
   "name": "python3"
  },
  "language_info": {
   "codemirror_mode": {
    "name": "ipython",
    "version": 3
   },
   "file_extension": ".py",
   "mimetype": "text/x-python",
   "name": "python",
   "nbconvert_exporter": "python",
   "pygments_lexer": "ipython3",
   "version": "3.10.2"
  },
  "orig_nbformat": 4
 },
 "nbformat": 4,
 "nbformat_minor": 2
}
